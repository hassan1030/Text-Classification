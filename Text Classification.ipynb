{
 "cells": [
  {
   "cell_type": "code",
   "execution_count": 6,
   "id": "c5a45c55-a03d-4bc9-b72b-38cc178b2054",
   "metadata": {},
   "outputs": [],
   "source": [
    "import pandas as pd\n",
    "import numpy as np\n",
    "from sklearn.model_selection import train_test_split\n",
    "from sklearn.metrics import accuracy_score\n",
    "from fastai.text.all import *\n",
    "import nltk\n",
    "from sklearn.feature_extraction.text import CountVectorizer\n",
    "from sklearn.naive_bayes import MultinomialNB\n",
    "from sklearn.pipeline import make_pipeline\n"
   ]
  },
  {
   "cell_type": "code",
   "execution_count": 18,
   "id": "13ee9a6f-dd1d-418c-bfc3-788610cb0994",
   "metadata": {},
   "outputs": [
    {
     "name": "stdout",
     "output_type": "stream",
     "text": [
      "Data preview:\n",
      "   Target          ID                          Date      flag           User  \\\n",
      "0       0  1467810672  Mon Apr 06 22:19:49 PDT 2009  NO_QUERY  scotthamilton   \n",
      "1       0  1467810917  Mon Apr 06 22:19:53 PDT 2009  NO_QUERY       mattycus   \n",
      "2       0  1467811184  Mon Apr 06 22:19:57 PDT 2009  NO_QUERY        ElleCTF   \n",
      "3       0  1467811193  Mon Apr 06 22:19:57 PDT 2009  NO_QUERY         Karoli   \n",
      "4       0  1467811372  Mon Apr 06 22:20:00 PDT 2009  NO_QUERY       joy_wolf   \n",
      "\n",
      "                                                                                                              Text  \n",
      "0  is upset that he can't update his Facebook by texting it... and might cry as a result  School today also. Blah!  \n",
      "1                        @Kenichan I dived many times for the ball. Managed to save 50%  The rest go out of bounds  \n",
      "2                                                                  my whole body feels itchy and like its on fire   \n",
      "3  @nationwideclass no, it's not behaving at all. i'm mad. why am i here? because I can't see you all over there.   \n",
      "4                                                                                    @Kwesidei not the whole crew   \n",
      "Data columns: Index(['Target', 'ID', 'Date', 'flag', 'User', 'Text'], dtype='object')\n"
     ]
    }
   ],
   "source": [
    "# Step 2: Load and inspect the dataset\n",
    "\n",
    "# Load the dataset with specified encoding to handle special characters\n",
    "twitter = pd.read_csv('/Users/muhammadhassanzahoor/Desktop/NEU/EAI 6010 - Applications of Artificial Intelligence/Module 3 - Text Classification with Transfer Learning/tweets.csv', encoding='ISO-8859-1')\n",
    "\n",
    "# Inspect the data structure\n",
    "print(\"Data preview:\")\n",
    "print(twitter.head())\n",
    "print(\"Data columns:\", twitter.columns)\n",
    "\n",
    "# Take a random sample of 1000 rows\n",
    "data = twitter.sample(n=1000, random_state=1)\n",
    "\n"
   ]
  },
  {
   "cell_type": "code",
   "execution_count": 20,
   "id": "e9d99862-cb8f-479a-9b8d-9f0b92d20613",
   "metadata": {},
   "outputs": [
    {
     "name": "stdout",
     "output_type": "stream",
     "text": [
      "           Target  \\\n",
      "1045953  positive   \n",
      "358409   negative   \n",
      "875012   positive   \n",
      "555046   negative   \n",
      "272972   negative   \n",
      "\n",
      "                                                                                                                                       Text  \n",
      "1045953                           Decided to have a raffle to get rid of some stuff I don't need. LOTS OF PRIZES  http://tinyurl.com/n7tk9s  \n",
      "358409                                        @nneoma I wanted Diversity to win  Flawless were good but Diversity were proper off the hook!  \n",
      "875012   @ericanoriega wow really, u like the rain? i hate it lol...but its really weird that its raining here...it normally rains on july   \n",
      "555046                                                               Hell traffic. Can't believe I have to go down punt road in a few mins   \n",
      "272972                                    Woke up and can't go back to sleep even though I'm really tired. Lol And in a slightly bad mood.   \n",
      "Class distribution:\n",
      " Target\n",
      "negative    769\n",
      "positive    231\n",
      "Name: count, dtype: int64\n"
     ]
    }
   ],
   "source": [
    "#Step 3: Filter and CLean Data\n",
    "\n",
    "# Keep only the relevant columns\n",
    "data = data[['Target', 'Text']]\n",
    "\n",
    "# Check for missing values and drop them if present\n",
    "data = data.dropna(subset=['Text', 'Target'])\n",
    "\n",
    "# Map the 'Target' values to meaningful labels for clarity\n",
    "data['Target'] = data['Target'].map({0: 'negative', 4: 'positive'})\n",
    "\n",
    "# Verify the changes\n",
    "print(data.head())\n",
    "print(\"Class distribution:\\n\", data['Target'].value_counts())"
   ]
  },
  {
   "cell_type": "code",
   "execution_count": 22,
   "id": "df1d2a11-b02c-4a59-a8c7-707a33c06f13",
   "metadata": {},
   "outputs": [
    {
     "name": "stdout",
     "output_type": "stream",
     "text": [
      "Training set size: 800, Validation set size: 200\n"
     ]
    }
   ],
   "source": [
    "#Step 4:  Split Data into Training and Validation Sets\n",
    "\n",
    "# Split data into train and validation sets (80-20 split)\n",
    "train_data, valid_data = train_test_split(data, test_size=0.2, random_state=42)\n",
    "\n",
    "# Verify the size of the splits\n",
    "print(f\"Training set size: {len(train_data)}, Validation set size: {len(valid_data)}\")"
   ]
  },
  {
   "cell_type": "code",
   "execution_count": 24,
   "id": "75688c80-c975-44b3-8880-523e2cbc160a",
   "metadata": {},
   "outputs": [
    {
     "data": {
      "text/html": [
       "\n",
       "<style>\n",
       "    /* Turns off some styling */\n",
       "    progress {\n",
       "        /* gets rid of default border in Firefox and Opera. */\n",
       "        border: none;\n",
       "        /* Needs to be in here for Safari polyfill so background images work as expected. */\n",
       "        background-size: auto;\n",
       "    }\n",
       "    progress:not([value]), progress:not([value])::-webkit-progress-bar {\n",
       "        background: repeating-linear-gradient(45deg, #7e7e7e, #7e7e7e 10px, #5c5c5c 10px, #5c5c5c 20px);\n",
       "    }\n",
       "    .progress-bar-interrupted, .progress-bar-interrupted::-webkit-progress-bar {\n",
       "        background: #F44336;\n",
       "    }\n",
       "</style>\n"
      ],
      "text/plain": [
       "<IPython.core.display.HTML object>"
      ]
     },
     "metadata": {},
     "output_type": "display_data"
    },
    {
     "data": {
      "text/html": [],
      "text/plain": [
       "<IPython.core.display.HTML object>"
      ]
     },
     "metadata": {},
     "output_type": "display_data"
    },
    {
     "name": "stderr",
     "output_type": "stream",
     "text": [
      "sentencepiece_trainer.cc(178) LOG(INFO) Running command: --input=tmp/texts.out --vocab_size=1112 --model_prefix=tmp/spm --character_coverage=0.99999 --model_type=unigram --unk_id=9 --pad_id=-1 --bos_id=-1 --eos_id=-1 --minloglevel=2 --user_defined_symbols=▁xxunk,▁xxpad,▁xxbos,▁xxeos,▁xxfld,▁xxrep,▁xxwrep,▁xxup,▁xxmaj --hard_vocab_limit=false\n"
     ]
    },
    {
     "data": {
      "text/html": [
       "\n",
       "<style>\n",
       "    /* Turns off some styling */\n",
       "    progress {\n",
       "        /* gets rid of default border in Firefox and Opera. */\n",
       "        border: none;\n",
       "        /* Needs to be in here for Safari polyfill so background images work as expected. */\n",
       "        background-size: auto;\n",
       "    }\n",
       "    progress:not([value]), progress:not([value])::-webkit-progress-bar {\n",
       "        background: repeating-linear-gradient(45deg, #7e7e7e, #7e7e7e 10px, #5c5c5c 10px, #5c5c5c 20px);\n",
       "    }\n",
       "    .progress-bar-interrupted, .progress-bar-interrupted::-webkit-progress-bar {\n",
       "        background: #F44336;\n",
       "    }\n",
       "</style>\n"
      ],
      "text/plain": [
       "<IPython.core.display.HTML object>"
      ]
     },
     "metadata": {},
     "output_type": "display_data"
    },
    {
     "data": {
      "text/html": [],
      "text/plain": [
       "<IPython.core.display.HTML object>"
      ]
     },
     "metadata": {},
     "output_type": "display_data"
    },
    {
     "data": {
      "text/html": [
       "\n",
       "<style>\n",
       "    /* Turns off some styling */\n",
       "    progress {\n",
       "        /* gets rid of default border in Firefox and Opera. */\n",
       "        border: none;\n",
       "        /* Needs to be in here for Safari polyfill so background images work as expected. */\n",
       "        background-size: auto;\n",
       "    }\n",
       "    progress:not([value]), progress:not([value])::-webkit-progress-bar {\n",
       "        background: repeating-linear-gradient(45deg, #7e7e7e, #7e7e7e 10px, #5c5c5c 10px, #5c5c5c 20px);\n",
       "    }\n",
       "    .progress-bar-interrupted, .progress-bar-interrupted::-webkit-progress-bar {\n",
       "        background: #F44336;\n",
       "    }\n",
       "</style>\n"
      ],
      "text/plain": [
       "<IPython.core.display.HTML object>"
      ]
     },
     "metadata": {},
     "output_type": "display_data"
    },
    {
     "data": {
      "text/html": [],
      "text/plain": [
       "<IPython.core.display.HTML object>"
      ]
     },
     "metadata": {},
     "output_type": "display_data"
    },
    {
     "name": "stdout",
     "output_type": "stream",
     "text": [
      "Data loaders created successfully.\n"
     ]
    },
    {
     "name": "stderr",
     "output_type": "stream",
     "text": [
      "/opt/anaconda3/lib/python3.12/site-packages/fastai/text/learner.py:149: FutureWarning: You are using `torch.load` with `weights_only=False` (the current default value), which uses the default pickle module implicitly. It is possible to construct malicious pickle data which will execute arbitrary code during unpickling (See https://github.com/pytorch/pytorch/blob/main/SECURITY.md#untrusted-models for more details). In a future release, the default value for `weights_only` will be flipped to `True`. This limits the functions that could be executed during unpickling. Arbitrary objects will no longer be allowed to be loaded via this mode unless they are explicitly allowlisted by the user via `torch.serialization.add_safe_globals`. We recommend you start setting `weights_only=True` for any use case where you don't have full control of the loaded file. Please open an issue on GitHub for any issues related to this experimental feature.\n",
      "  wgts = torch.load(wgts_fname, map_location = lambda storage,loc: storage)\n"
     ]
    },
    {
     "data": {
      "text/html": [
       "\n",
       "<style>\n",
       "    /* Turns off some styling */\n",
       "    progress {\n",
       "        /* gets rid of default border in Firefox and Opera. */\n",
       "        border: none;\n",
       "        /* Needs to be in here for Safari polyfill so background images work as expected. */\n",
       "        background-size: auto;\n",
       "    }\n",
       "    progress:not([value]), progress:not([value])::-webkit-progress-bar {\n",
       "        background: repeating-linear-gradient(45deg, #7e7e7e, #7e7e7e 10px, #5c5c5c 10px, #5c5c5c 20px);\n",
       "    }\n",
       "    .progress-bar-interrupted, .progress-bar-interrupted::-webkit-progress-bar {\n",
       "        background: #F44336;\n",
       "    }\n",
       "</style>\n"
      ],
      "text/plain": [
       "<IPython.core.display.HTML object>"
      ]
     },
     "metadata": {},
     "output_type": "display_data"
    },
    {
     "data": {
      "text/html": [
       "<table border=\"1\" class=\"dataframe\">\n",
       "  <thead>\n",
       "    <tr style=\"text-align: left;\">\n",
       "      <th>epoch</th>\n",
       "      <th>train_loss</th>\n",
       "      <th>valid_loss</th>\n",
       "      <th>accuracy</th>\n",
       "      <th>perplexity</th>\n",
       "      <th>time</th>\n",
       "    </tr>\n",
       "  </thead>\n",
       "  <tbody>\n",
       "    <tr>\n",
       "      <td>0</td>\n",
       "      <td>8.361176</td>\n",
       "      <td>6.534743</td>\n",
       "      <td>0.037073</td>\n",
       "      <td>688.656982</td>\n",
       "      <td>00:02</td>\n",
       "    </tr>\n",
       "  </tbody>\n",
       "</table>"
      ],
      "text/plain": [
       "<IPython.core.display.HTML object>"
      ]
     },
     "metadata": {},
     "output_type": "display_data"
    },
    {
     "data": {
      "text/html": [
       "\n",
       "<style>\n",
       "    /* Turns off some styling */\n",
       "    progress {\n",
       "        /* gets rid of default border in Firefox and Opera. */\n",
       "        border: none;\n",
       "        /* Needs to be in here for Safari polyfill so background images work as expected. */\n",
       "        background-size: auto;\n",
       "    }\n",
       "    progress:not([value]), progress:not([value])::-webkit-progress-bar {\n",
       "        background: repeating-linear-gradient(45deg, #7e7e7e, #7e7e7e 10px, #5c5c5c 10px, #5c5c5c 20px);\n",
       "    }\n",
       "    .progress-bar-interrupted, .progress-bar-interrupted::-webkit-progress-bar {\n",
       "        background: #F44336;\n",
       "    }\n",
       "</style>\n"
      ],
      "text/plain": [
       "<IPython.core.display.HTML object>"
      ]
     },
     "metadata": {},
     "output_type": "display_data"
    },
    {
     "data": {
      "text/html": [
       "<table border=\"1\" class=\"dataframe\">\n",
       "  <thead>\n",
       "    <tr style=\"text-align: left;\">\n",
       "      <th>epoch</th>\n",
       "      <th>train_loss</th>\n",
       "      <th>valid_loss</th>\n",
       "      <th>accuracy</th>\n",
       "      <th>perplexity</th>\n",
       "      <th>time</th>\n",
       "    </tr>\n",
       "  </thead>\n",
       "  <tbody>\n",
       "    <tr>\n",
       "      <td>0</td>\n",
       "      <td>6.224312</td>\n",
       "      <td>6.172145</td>\n",
       "      <td>0.049334</td>\n",
       "      <td>479.212860</td>\n",
       "      <td>00:02</td>\n",
       "    </tr>\n",
       "    <tr>\n",
       "      <td>1</td>\n",
       "      <td>5.965567</td>\n",
       "      <td>5.536211</td>\n",
       "      <td>0.083044</td>\n",
       "      <td>253.714859</td>\n",
       "      <td>00:02</td>\n",
       "    </tr>\n",
       "    <tr>\n",
       "      <td>2</td>\n",
       "      <td>5.776671</td>\n",
       "      <td>5.305614</td>\n",
       "      <td>0.101309</td>\n",
       "      <td>201.464661</td>\n",
       "      <td>00:01</td>\n",
       "    </tr>\n",
       "    <tr>\n",
       "      <td>3</td>\n",
       "      <td>5.617991</td>\n",
       "      <td>5.231066</td>\n",
       "      <td>0.109881</td>\n",
       "      <td>186.991989</td>\n",
       "      <td>00:01</td>\n",
       "    </tr>\n",
       "    <tr>\n",
       "      <td>4</td>\n",
       "      <td>5.515702</td>\n",
       "      <td>5.213860</td>\n",
       "      <td>0.112124</td>\n",
       "      <td>183.802094</td>\n",
       "      <td>00:01</td>\n",
       "    </tr>\n",
       "  </tbody>\n",
       "</table>"
      ],
      "text/plain": [
       "<IPython.core.display.HTML object>"
      ]
     },
     "metadata": {},
     "output_type": "display_data"
    },
    {
     "name": "stdout",
     "output_type": "stream",
     "text": [
      "Language model fine-tuning complete.\n"
     ]
    }
   ],
   "source": [
    "#Step 5: Tokenization\n",
    "from fastai.text.all import TextDataLoaders, SentencePieceTokenizer\n",
    "\n",
    "# Specify tokenizer explicitly\n",
    "tok = SentencePieceTokenizer()\n",
    "\n",
    "# Create the language model data loader\n",
    "dls_lm = TextDataLoaders.from_df(data, text_col='Text', is_lm=True, valid_pct=0.2, seed=42, tok_tfm=tok)\n",
    "\n",
    "# Create the classifier data loader\n",
    "dls_clas = TextDataLoaders.from_df(train_data, text_col='Text', label_col='Target', valid_df=valid_data, seed=42, tok_tfm=tok)\n",
    "\n",
    "print(\"Data loaders created successfully.\")\n",
    "\n",
    "#Step 6: Fine tuning the model\n",
    "# Fine-tuning the language model\n",
    "learn_lm = language_model_learner(dls_lm, AWD_LSTM, drop_mult=0.5, metrics=[accuracy, Perplexity()])\n",
    "learn_lm.fit_one_cycle(1, 2e-2)  # Initial fine-tuning cycle\n",
    "learn_lm.unfreeze()\n",
    "learn_lm.fit_one_cycle(5, 2e-3)  # Further training after unfreezing\n",
    "\n",
    "# Save the fine-tuned model\n",
    "learn_lm.save('fine_tuned_lm')\n",
    "learn_lm.save_encoder('fine_tuned_encoder')\n",
    "print(\"Language model fine-tuning complete.\")\n"
   ]
  },
  {
   "cell_type": "code",
   "execution_count": 26,
   "id": "dc7d5bfc-3f26-4f1d-bb33-6003327d53bc",
   "metadata": {},
   "outputs": [
    {
     "name": "stderr",
     "output_type": "stream",
     "text": [
      "/opt/anaconda3/lib/python3.12/site-packages/fastai/text/learner.py:149: FutureWarning: You are using `torch.load` with `weights_only=False` (the current default value), which uses the default pickle module implicitly. It is possible to construct malicious pickle data which will execute arbitrary code during unpickling (See https://github.com/pytorch/pytorch/blob/main/SECURITY.md#untrusted-models for more details). In a future release, the default value for `weights_only` will be flipped to `True`. This limits the functions that could be executed during unpickling. Arbitrary objects will no longer be allowed to be loaded via this mode unless they are explicitly allowlisted by the user via `torch.serialization.add_safe_globals`. We recommend you start setting `weights_only=True` for any use case where you don't have full control of the loaded file. Please open an issue on GitHub for any issues related to this experimental feature.\n",
      "  wgts = torch.load(wgts_fname, map_location = lambda storage,loc: storage)\n"
     ]
    },
    {
     "name": "stdout",
     "output_type": "stream",
     "text": [
      "Text classifier training complete (trained from scratch).\n",
      "Text classifier model exported.\n"
     ]
    },
    {
     "data": {
      "text/html": [
       "\n",
       "<style>\n",
       "    /* Turns off some styling */\n",
       "    progress {\n",
       "        /* gets rid of default border in Firefox and Opera. */\n",
       "        border: none;\n",
       "        /* Needs to be in here for Safari polyfill so background images work as expected. */\n",
       "        background-size: auto;\n",
       "    }\n",
       "    progress:not([value]), progress:not([value])::-webkit-progress-bar {\n",
       "        background: repeating-linear-gradient(45deg, #7e7e7e, #7e7e7e 10px, #5c5c5c 10px, #5c5c5c 20px);\n",
       "    }\n",
       "    .progress-bar-interrupted, .progress-bar-interrupted::-webkit-progress-bar {\n",
       "        background: #F44336;\n",
       "    }\n",
       "</style>\n"
      ],
      "text/plain": [
       "<IPython.core.display.HTML object>"
      ]
     },
     "metadata": {},
     "output_type": "display_data"
    },
    {
     "data": {
      "text/html": [
       "<table border=\"1\" class=\"dataframe\">\n",
       "  <thead>\n",
       "    <tr style=\"text-align: left;\">\n",
       "      <th>epoch</th>\n",
       "      <th>train_loss</th>\n",
       "      <th>valid_loss</th>\n",
       "      <th>accuracy</th>\n",
       "      <th>time</th>\n",
       "    </tr>\n",
       "  </thead>\n",
       "  <tbody>\n",
       "    <tr>\n",
       "      <td>0</td>\n",
       "      <td>0.774793</td>\n",
       "      <td>0.723497</td>\n",
       "      <td>0.412500</td>\n",
       "      <td>00:01</td>\n",
       "    </tr>\n",
       "    <tr>\n",
       "      <td>1</td>\n",
       "      <td>0.711383</td>\n",
       "      <td>0.537134</td>\n",
       "      <td>0.806250</td>\n",
       "      <td>00:00</td>\n",
       "    </tr>\n",
       "    <tr>\n",
       "      <td>2</td>\n",
       "      <td>0.670268</td>\n",
       "      <td>0.520910</td>\n",
       "      <td>0.800000</td>\n",
       "      <td>00:00</td>\n",
       "    </tr>\n",
       "  </tbody>\n",
       "</table>"
      ],
      "text/plain": [
       "<IPython.core.display.HTML object>"
      ]
     },
     "metadata": {},
     "output_type": "display_data"
    },
    {
     "data": {
      "text/html": [
       "\n",
       "<style>\n",
       "    /* Turns off some styling */\n",
       "    progress {\n",
       "        /* gets rid of default border in Firefox and Opera. */\n",
       "        border: none;\n",
       "        /* Needs to be in here for Safari polyfill so background images work as expected. */\n",
       "        background-size: auto;\n",
       "    }\n",
       "    progress:not([value]), progress:not([value])::-webkit-progress-bar {\n",
       "        background: repeating-linear-gradient(45deg, #7e7e7e, #7e7e7e 10px, #5c5c5c 10px, #5c5c5c 20px);\n",
       "    }\n",
       "    .progress-bar-interrupted, .progress-bar-interrupted::-webkit-progress-bar {\n",
       "        background: #F44336;\n",
       "    }\n",
       "</style>\n"
      ],
      "text/plain": [
       "<IPython.core.display.HTML object>"
      ]
     },
     "metadata": {},
     "output_type": "display_data"
    },
    {
     "data": {
      "text/html": [
       "<table border=\"1\" class=\"dataframe\">\n",
       "  <thead>\n",
       "    <tr style=\"text-align: left;\">\n",
       "      <th>epoch</th>\n",
       "      <th>train_loss</th>\n",
       "      <th>valid_loss</th>\n",
       "      <th>accuracy</th>\n",
       "      <th>time</th>\n",
       "    </tr>\n",
       "  </thead>\n",
       "  <tbody>\n",
       "    <tr>\n",
       "      <td>0</td>\n",
       "      <td>0.572742</td>\n",
       "      <td>0.547163</td>\n",
       "      <td>0.762500</td>\n",
       "      <td>00:02</td>\n",
       "    </tr>\n",
       "    <tr>\n",
       "      <td>1</td>\n",
       "      <td>0.585633</td>\n",
       "      <td>0.575741</td>\n",
       "      <td>0.781250</td>\n",
       "      <td>00:02</td>\n",
       "    </tr>\n",
       "    <tr>\n",
       "      <td>2</td>\n",
       "      <td>0.561626</td>\n",
       "      <td>0.527168</td>\n",
       "      <td>0.787500</td>\n",
       "      <td>00:02</td>\n",
       "    </tr>\n",
       "    <tr>\n",
       "      <td>3</td>\n",
       "      <td>0.530579</td>\n",
       "      <td>0.555237</td>\n",
       "      <td>0.781250</td>\n",
       "      <td>00:02</td>\n",
       "    </tr>\n",
       "    <tr>\n",
       "      <td>4</td>\n",
       "      <td>0.491202</td>\n",
       "      <td>0.549697</td>\n",
       "      <td>0.793750</td>\n",
       "      <td>00:02</td>\n",
       "    </tr>\n",
       "  </tbody>\n",
       "</table>"
      ],
      "text/plain": [
       "<IPython.core.display.HTML object>"
      ]
     },
     "metadata": {},
     "output_type": "display_data"
    },
    {
     "name": "stdout",
     "output_type": "stream",
     "text": [
      "Text classifier training complete (trained from scratch).\n"
     ]
    }
   ],
   "source": [
    "#Step 7: Training the text classifier\n",
    "\n",
    "# Initialize the text classifier learner without loading the encoder\n",
    "learn_clas = text_classifier_learner(dls_clas, AWD_LSTM, drop_mult=0.5, metrics=accuracy)\n",
    "\n",
    "# Save the trained classifier model\n",
    "learn_clas.save('text_classifier_model_from_scratch')\n",
    "print(\"Text classifier training complete (trained from scratch).\")\n",
    "\n",
    "# Export the trained classifier for inference\n",
    "learn_clas.export('text_classifier.pkl')\n",
    "print(\"Text classifier model exported.\")\n",
    "\n",
    "\n",
    "\n",
    "# Train the classifier from scratch\n",
    "learn_clas.fit_one_cycle(3, 2e-2)  # Initial training for the classifier\n",
    "learn_clas.unfreeze()\n",
    "learn_clas.fit_one_cycle(5, 2e-3)  # Further training after unfreezing\n",
    "\n",
    "# Save the trained classifier model\n",
    "learn_clas.save('text_classifier_model_from_scratch')\n",
    "print(\"Text classifier training complete (trained from scratch).\")\n",
    "\n"
   ]
  },
  {
   "cell_type": "code",
   "execution_count": 28,
   "id": "a24ebc90-5954-40d7-a14a-49fe7ccabd8a",
   "metadata": {},
   "outputs": [
    {
     "data": {
      "text/html": [
       "\n",
       "<style>\n",
       "    /* Turns off some styling */\n",
       "    progress {\n",
       "        /* gets rid of default border in Firefox and Opera. */\n",
       "        border: none;\n",
       "        /* Needs to be in here for Safari polyfill so background images work as expected. */\n",
       "        background-size: auto;\n",
       "    }\n",
       "    progress:not([value]), progress:not([value])::-webkit-progress-bar {\n",
       "        background: repeating-linear-gradient(45deg, #7e7e7e, #7e7e7e 10px, #5c5c5c 10px, #5c5c5c 20px);\n",
       "    }\n",
       "    .progress-bar-interrupted, .progress-bar-interrupted::-webkit-progress-bar {\n",
       "        background: #F44336;\n",
       "    }\n",
       "</style>\n"
      ],
      "text/plain": [
       "<IPython.core.display.HTML object>"
      ]
     },
     "metadata": {},
     "output_type": "display_data"
    },
    {
     "data": {
      "text/html": [],
      "text/plain": [
       "<IPython.core.display.HTML object>"
      ]
     },
     "metadata": {},
     "output_type": "display_data"
    },
    {
     "name": "stdout",
     "output_type": "stream",
     "text": [
      "Deep learning model accuracy: 0.79375\n"
     ]
    }
   ],
   "source": [
    "#Step 8: Evaluate the Model\n",
    "\n",
    "from sklearn.metrics import accuracy_score\n",
    "\n",
    "# Get predictions and calculate accuracy\n",
    "preds, targets = learn_clas.get_preds()\n",
    "accuracy_dl = accuracy_score(targets, preds.argmax(dim=1))\n",
    "print(\"Deep learning model accuracy:\", accuracy_dl)\n"
   ]
  },
  {
   "cell_type": "code",
   "execution_count": 36,
   "id": "eaf42d86-781a-4baf-b726-c6964ed8e0f0",
   "metadata": {},
   "outputs": [
    {
     "name": "stdout",
     "output_type": "stream",
     "text": [
      "Traditional Naive Bayes model accuracy: 0.76\n"
     ]
    },
    {
     "name": "stderr",
     "output_type": "stream",
     "text": [
      "[nltk_data] Downloading package stopwords to\n",
      "[nltk_data]     /Users/muhammadhassanzahoor/nltk_data...\n",
      "[nltk_data]   Package stopwords is already up-to-date!\n"
     ]
    }
   ],
   "source": [
    "# Step 9: Train a Traditional NLP Model (Naive Bayes)\n",
    "\n",
    "from sklearn.feature_extraction.text import CountVectorizer\n",
    "from sklearn.naive_bayes import MultinomialNB\n",
    "from sklearn.pipeline import make_pipeline\n",
    "import nltk\n",
    "\n",
    "# Download NLTK stopwords\n",
    "nltk.download('stopwords')\n",
    "from nltk.corpus import stopwords\n",
    "\n",
    "# Define stopwords as a list\n",
    "stop_words = list(stopwords.words('english'))\n",
    "\n",
    "# Set up pipeline with CountVectorizer and Naive Bayes\n",
    "nb_model = make_pipeline(\n",
    "    CountVectorizer(stop_words=stop_words),\n",
    "    MultinomialNB()\n",
    ")\n",
    "\n",
    "# Train the model\n",
    "nb_model.fit(train_data['Text'], train_data['Target'])\n",
    "\n",
    "# Set up pipeline with CountVectorizer and Naive Bayes\n",
    "nb_model = make_pipeline(\n",
    "    CountVectorizer(stop_words=stop_words),\n",
    "    MultinomialNB()\n",
    ")\n",
    "\n",
    "# Train the model\n",
    "nb_model.fit(train_data['Text'], train_data['Target'])\n",
    "\n",
    "\n",
    "# Evaluate the model on the validation set\n",
    "preds_nb = nb_model.predict(valid_data['Text'])\n",
    "accuracy_nb = accuracy_score(valid_data['Target'], preds_nb)\n",
    "print(\"Traditional Naive Bayes model accuracy:\", accuracy_nb)\n"
   ]
  },
  {
   "cell_type": "code",
   "execution_count": 34,
   "id": "b6740e50-20b5-4b9a-a2f1-7555e7e7cc0b",
   "metadata": {},
   "outputs": [
    {
     "name": "stdout",
     "output_type": "stream",
     "text": [
      "Deep Learning Model (AWD_LSTM + ULMFiT) Accuracy: 0.79375\n",
      "Traditional NLP Model (Naive Bayes) Accuracy: 0.76\n"
     ]
    }
   ],
   "source": [
    "#step 10: Compre the Model Performance\n",
    "\n",
    "print(\"Deep Learning Model (AWD_LSTM + ULMFiT) Accuracy:\", accuracy_dl)\n",
    "print(\"Traditional NLP Model (Naive Bayes) Accuracy:\", accuracy_nb)\n"
   ]
  },
  {
   "cell_type": "code",
   "execution_count": null,
   "id": "83978bc6-aacf-4f00-9fdc-e5803c8b9184",
   "metadata": {},
   "outputs": [],
   "source": []
  }
 ],
 "metadata": {
  "kernelspec": {
   "display_name": "Python 3 (ipykernel)",
   "language": "python",
   "name": "python3"
  },
  "language_info": {
   "codemirror_mode": {
    "name": "ipython",
    "version": 3
   },
   "file_extension": ".py",
   "mimetype": "text/x-python",
   "name": "python",
   "nbconvert_exporter": "python",
   "pygments_lexer": "ipython3",
   "version": "3.12.4"
  }
 },
 "nbformat": 4,
 "nbformat_minor": 5
}
